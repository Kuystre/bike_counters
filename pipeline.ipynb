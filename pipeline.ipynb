{
 "cells": [
  {
   "cell_type": "code",
   "execution_count": 37,
   "id": "8bc384e8",
   "metadata": {},
   "outputs": [],
   "source": [
    "from pathlib import Path\n",
    "\n",
    "import numpy as np\n",
    "import pandas as pd\n",
    "from sklearn.preprocessing import FunctionTransformer\n",
    "from sklearn.preprocessing import OneHotEncoder\n",
    "from sklearn.pipeline import make_pipeline\n",
    "from sklearn.compose import ColumnTransformer\n",
    "import xgboost as xgb"
   ]
  },
  {
   "cell_type": "code",
   "execution_count": 38,
   "id": "effae9ab",
   "metadata": {},
   "outputs": [],
   "source": [
    "# The date encoder stays the same, we changed nothing here\n",
    "def _encode_dates(X):\n",
    "    X = X.copy()  # modify a copy of X\n",
    "    # Encode the date information from the DateOfDeparture columns\n",
    "    X.loc[:, \"year\"] = X[\"date\"].dt.year\n",
    "    X.loc[:, \"month\"] = X[\"date\"].dt.month\n",
    "    X.loc[:, \"day\"] = X[\"date\"].dt.day\n",
    "    X.loc[:, \"weekday\"] = X[\"date\"].dt.weekday\n",
    "    X.loc[:, \"hour\"] = X[\"date\"].dt.hour\n",
    "    # Finally we can drop the original columns from the dataframe\n",
    "    return X.drop(columns=[\"date\"])"
   ]
  },
  {
   "cell_type": "code",
   "execution_count": 39,
   "id": "6a4051ee",
   "metadata": {},
   "outputs": [],
   "source": [
    "def _merge_external_data(X):\n",
    "    df_ext = pd.read_csv(\"external_data.csv\", parse_dates=[\"date\"])\n",
    "\n",
    "    X = X.copy()\n",
    "    # When using merge_asof left frame need to be sorted\n",
    "    X[\"orig_index\"] = np.arange(X.shape[0])\n",
    "    X = pd.merge_asof(\n",
    "        X.sort_values(\"date\"), df_ext[[\"date\", \"ww\", \"u\", \"etat_sol\"]].sort_values(\"date\"), on=\"date\"\n",
    "    )\n",
    "    # Sort back to the original order\n",
    "    X = X.sort_values(\"orig_index\")\n",
    "    del X[\"orig_index\"]\n",
    "    return X"
   ]
  },
  {
   "cell_type": "code",
   "execution_count": 40,
   "id": "cdf306cb",
   "metadata": {},
   "outputs": [],
   "source": [
    "from workalendar.europe import France\n",
    "\n",
    "def add_new_features(df):\n",
    "    # Create an instance of the France calendar\n",
    "    cal = France()\n",
    "    # Convert 'date' to datetime if it's not already\n",
    "    df['date'] = pd.to_datetime(df['date'])\n",
    "\n",
    "    # Adding 'is_weekend' feature\n",
    "    df['is_weekend'] = df['date'].dt.weekday.isin([5, 6]).astype(int)\n",
    "\n",
    "    # Adding 'is_holiday' feature\n",
    "    df['is_holiday'] = df['date'].apply(lambda x: cal.is_holiday(x)).astype(int)\n",
    "        \n",
    "    # Define curfew periods\n",
    "    curfew_periods = [\n",
    "        (pd.to_datetime(\"2020-10-17\"), pd.to_datetime(\"2020-12-15\"), 21, 6),\n",
    "        (pd.to_datetime(\"2020-12-15\"), pd.to_datetime(\"2021-01-16\"), 20, 6),\n",
    "        (pd.to_datetime(\"2021-01-16\"), pd.to_datetime(\"2021-05-19\"), 18, 6),\n",
    "        (pd.to_datetime(\"2021-05-19\"), pd.to_datetime(\"2021-06-09\"), 21, 6),\n",
    "        (pd.to_datetime(\"2021-06-09\"), pd.to_datetime(\"2021-06-30\"), 23, 6)\n",
    "        # No curfew after 2021-06-30\n",
    "    ]\n",
    "\n",
    "    # Function to check if a datetime is within the curfew period\n",
    "    def is_curfew(date):\n",
    "        hour = date.hour\n",
    "        for start, end, start_hour, end_hour in curfew_periods:\n",
    "            if start <= date <= end:\n",
    "                if start_hour <= hour or hour < end_hour:  # Curfew hours\n",
    "                    return 1\n",
    "        return 0\n",
    "\n",
    "    # Apply the function to each row\n",
    "    df['is_curfew'] = df['date'].apply(is_curfew)\n",
    "\n",
    "     \n",
    "    # Adding cyclic encoding for day, month, and hour\n",
    "    df['day_sin'] = np.sin(2 * np.pi * df['date'].dt.day / df['date'].dt.days_in_month)\n",
    "    df['day_cos'] = np.cos(2 * np.pi * df['date'].dt.day / df['date'].dt.days_in_month)\n",
    "    df['month_sin'] = np.sin(2 * np.pi * df['date'].dt.month / 12)\n",
    "    df['month_cos'] = np.cos(2 * np.pi * df['date'].dt.month / 12)\n",
    "    df['hour_sin'] = np.sin(2 * np.pi * df['date'].dt.hour / 24)\n",
    "    df['hour_cos'] = np.cos(2 * np.pi * df['date'].dt.hour / 24)\n",
    "\n",
    "    return df"
   ]
  },
  {
   "cell_type": "code",
   "execution_count": 41,
   "id": "fdf6a881",
   "metadata": {},
   "outputs": [],
   "source": [
    "def get_estimator():\n",
    "    # Function to add new features (place the function add_new_features here)\n",
    "\n",
    "    # Pipeline components\n",
    "    date_encoder = FunctionTransformer(_encode_dates)\n",
    "    date_cols = [\"year\", \"month\", \"day\", \"weekday\", \"hour\"]\n",
    "\n",
    "    # Update to include new features\n",
    "    categorical_cols = [\n",
    "        \"counter_name\", \"site_name\", \"etat_sol\", \"ww\", \n",
    "        \"is_weekend\", \"is_holiday\", \"is_curfew\"]\n",
    "    numerical_cols = [\"u\", \"day_sin\", \"day_cos\", \"month_sin\", \"month_cos\", \"hour_sin\", \"hour_cos\"]\n",
    "    \n",
    "    preprocessor = ColumnTransformer(\n",
    "        [\n",
    "            (\"date\", OneHotEncoder(handle_unknown=\"ignore\"), date_cols),\n",
    "            (\"cat\", OneHotEncoder(handle_unknown=\"ignore\"), categorical_cols),\n",
    "            (\"num\", 'passthrough', numerical_cols) \n",
    "        ]\n",
    "    )\n",
    "\n",
    "    # XGB Regressor parameters\n",
    "    regressor = xgb.XGBRegressor(max_depth=8, objective='reg:squarederror', learning_rate=0.2, n_estimators=110)\n",
    "\n",
    "    # Final pipeline\n",
    "    pipe = make_pipeline(\n",
    "        FunctionTransformer(add_new_features, validate=False),\n",
    "        FunctionTransformer(_merge_external_data, validate=False),\n",
    "        date_encoder,\n",
    "        preprocessor,\n",
    "        regressor\n",
    "    )\n",
    "\n",
    "    return pipe"
   ]
  },
  {
   "cell_type": "code",
   "execution_count": 42,
   "id": "33f0b1f4",
   "metadata": {},
   "outputs": [],
   "source": [
    "data_train = pd.read_parquet(\"train.parquet\")\n",
    "data_test = pd.read_parquet(\"test.parquet\")\n",
    "\n",
    "data = pd.concat((data_train, data_test))\n",
    "\n",
    "data['date'] = pd.to_datetime(data['date'])\n",
    "\n",
    "# Define the lockdown start and end dates\n",
    "lockdown_start = pd.to_datetime(\"2020-10-30\")\n",
    "lockdown_end = pd.to_datetime(\"2020-12-15\")\n",
    "\n",
    "# Filter out the data that falls within the lockdown period\n",
    "data = data[~((data['date'] >= lockdown_start) & (data['date'] <= lockdown_end))]\n",
    "\n",
    "X = data.drop([\"bike_count\", \"log_bike_count\"], axis=1)\n",
    "y = data[\"log_bike_count\"]"
   ]
  },
  {
   "cell_type": "code",
   "execution_count": 43,
   "id": "0a70027c",
   "metadata": {},
   "outputs": [],
   "source": [
    "pipe = get_estimator()"
   ]
  },
  {
   "cell_type": "code",
   "execution_count": 44,
   "id": "dbb0dce0",
   "metadata": {
    "scrolled": true
   },
   "outputs": [
    {
     "data": {
      "text/html": [
       "<style>#sk-container-id-3 {color: black;}#sk-container-id-3 pre{padding: 0;}#sk-container-id-3 div.sk-toggleable {background-color: white;}#sk-container-id-3 label.sk-toggleable__label {cursor: pointer;display: block;width: 100%;margin-bottom: 0;padding: 0.3em;box-sizing: border-box;text-align: center;}#sk-container-id-3 label.sk-toggleable__label-arrow:before {content: \"▸\";float: left;margin-right: 0.25em;color: #696969;}#sk-container-id-3 label.sk-toggleable__label-arrow:hover:before {color: black;}#sk-container-id-3 div.sk-estimator:hover label.sk-toggleable__label-arrow:before {color: black;}#sk-container-id-3 div.sk-toggleable__content {max-height: 0;max-width: 0;overflow: hidden;text-align: left;background-color: #f0f8ff;}#sk-container-id-3 div.sk-toggleable__content pre {margin: 0.2em;color: black;border-radius: 0.25em;background-color: #f0f8ff;}#sk-container-id-3 input.sk-toggleable__control:checked~div.sk-toggleable__content {max-height: 200px;max-width: 100%;overflow: auto;}#sk-container-id-3 input.sk-toggleable__control:checked~label.sk-toggleable__label-arrow:before {content: \"▾\";}#sk-container-id-3 div.sk-estimator input.sk-toggleable__control:checked~label.sk-toggleable__label {background-color: #d4ebff;}#sk-container-id-3 div.sk-label input.sk-toggleable__control:checked~label.sk-toggleable__label {background-color: #d4ebff;}#sk-container-id-3 input.sk-hidden--visually {border: 0;clip: rect(1px 1px 1px 1px);clip: rect(1px, 1px, 1px, 1px);height: 1px;margin: -1px;overflow: hidden;padding: 0;position: absolute;width: 1px;}#sk-container-id-3 div.sk-estimator {font-family: monospace;background-color: #f0f8ff;border: 1px dotted black;border-radius: 0.25em;box-sizing: border-box;margin-bottom: 0.5em;}#sk-container-id-3 div.sk-estimator:hover {background-color: #d4ebff;}#sk-container-id-3 div.sk-parallel-item::after {content: \"\";width: 100%;border-bottom: 1px solid gray;flex-grow: 1;}#sk-container-id-3 div.sk-label:hover label.sk-toggleable__label {background-color: #d4ebff;}#sk-container-id-3 div.sk-serial::before {content: \"\";position: absolute;border-left: 1px solid gray;box-sizing: border-box;top: 0;bottom: 0;left: 50%;z-index: 0;}#sk-container-id-3 div.sk-serial {display: flex;flex-direction: column;align-items: center;background-color: white;padding-right: 0.2em;padding-left: 0.2em;position: relative;}#sk-container-id-3 div.sk-item {position: relative;z-index: 1;}#sk-container-id-3 div.sk-parallel {display: flex;align-items: stretch;justify-content: center;background-color: white;position: relative;}#sk-container-id-3 div.sk-item::before, #sk-container-id-3 div.sk-parallel-item::before {content: \"\";position: absolute;border-left: 1px solid gray;box-sizing: border-box;top: 0;bottom: 0;left: 50%;z-index: -1;}#sk-container-id-3 div.sk-parallel-item {display: flex;flex-direction: column;z-index: 1;position: relative;background-color: white;}#sk-container-id-3 div.sk-parallel-item:first-child::after {align-self: flex-end;width: 50%;}#sk-container-id-3 div.sk-parallel-item:last-child::after {align-self: flex-start;width: 50%;}#sk-container-id-3 div.sk-parallel-item:only-child::after {width: 0;}#sk-container-id-3 div.sk-dashed-wrapped {border: 1px dashed gray;margin: 0 0.4em 0.5em 0.4em;box-sizing: border-box;padding-bottom: 0.4em;background-color: white;}#sk-container-id-3 div.sk-label label {font-family: monospace;font-weight: bold;display: inline-block;line-height: 1.2em;}#sk-container-id-3 div.sk-label-container {text-align: center;}#sk-container-id-3 div.sk-container {/* jupyter's `normalize.less` sets `[hidden] { display: none; }` but bootstrap.min.css set `[hidden] { display: none !important; }` so we also need the `!important` here to be able to override the default hidden behavior on the sphinx rendered scikit-learn.org. See: https://github.com/scikit-learn/scikit-learn/issues/21755 */display: inline-block !important;position: relative;}#sk-container-id-3 div.sk-text-repr-fallback {display: none;}</style><div id=\"sk-container-id-3\" class=\"sk-top-container\"><div class=\"sk-text-repr-fallback\"><pre>Pipeline(steps=[(&#x27;functiontransformer-1&#x27;,\n",
       "                 FunctionTransformer(func=&lt;function add_new_features at 0x000001CD614B74C0&gt;)),\n",
       "                (&#x27;functiontransformer-2&#x27;,\n",
       "                 FunctionTransformer(func=&lt;function _merge_external_data at 0x000001CD6174B740&gt;)),\n",
       "                (&#x27;functiontransformer-3&#x27;,\n",
       "                 FunctionTransformer(func=&lt;function _encode_dates at 0x000001CD614B7600&gt;)),\n",
       "                (&#x27;columntransformer&#x27;,\n",
       "                 ColumnTransform...\n",
       "                              feature_types=None, gamma=None, grow_policy=None,\n",
       "                              importance_type=None,\n",
       "                              interaction_constraints=None, learning_rate=0.2,\n",
       "                              max_bin=None, max_cat_threshold=None,\n",
       "                              max_cat_to_onehot=None, max_delta_step=None,\n",
       "                              max_depth=8, max_leaves=None,\n",
       "                              min_child_weight=None, missing=nan,\n",
       "                              monotone_constraints=None, multi_strategy=None,\n",
       "                              n_estimators=110, n_jobs=None,\n",
       "                              num_parallel_tree=None, random_state=None, ...))])</pre><b>In a Jupyter environment, please rerun this cell to show the HTML representation or trust the notebook. <br />On GitHub, the HTML representation is unable to render, please try loading this page with nbviewer.org.</b></div><div class=\"sk-container\" hidden><div class=\"sk-item sk-dashed-wrapped\"><div class=\"sk-label-container\"><div class=\"sk-label sk-toggleable\"><input class=\"sk-toggleable__control sk-hidden--visually\" id=\"sk-estimator-id-25\" type=\"checkbox\" ><label for=\"sk-estimator-id-25\" class=\"sk-toggleable__label sk-toggleable__label-arrow\">Pipeline</label><div class=\"sk-toggleable__content\"><pre>Pipeline(steps=[(&#x27;functiontransformer-1&#x27;,\n",
       "                 FunctionTransformer(func=&lt;function add_new_features at 0x000001CD614B74C0&gt;)),\n",
       "                (&#x27;functiontransformer-2&#x27;,\n",
       "                 FunctionTransformer(func=&lt;function _merge_external_data at 0x000001CD6174B740&gt;)),\n",
       "                (&#x27;functiontransformer-3&#x27;,\n",
       "                 FunctionTransformer(func=&lt;function _encode_dates at 0x000001CD614B7600&gt;)),\n",
       "                (&#x27;columntransformer&#x27;,\n",
       "                 ColumnTransform...\n",
       "                              feature_types=None, gamma=None, grow_policy=None,\n",
       "                              importance_type=None,\n",
       "                              interaction_constraints=None, learning_rate=0.2,\n",
       "                              max_bin=None, max_cat_threshold=None,\n",
       "                              max_cat_to_onehot=None, max_delta_step=None,\n",
       "                              max_depth=8, max_leaves=None,\n",
       "                              min_child_weight=None, missing=nan,\n",
       "                              monotone_constraints=None, multi_strategy=None,\n",
       "                              n_estimators=110, n_jobs=None,\n",
       "                              num_parallel_tree=None, random_state=None, ...))])</pre></div></div></div><div class=\"sk-serial\"><div class=\"sk-item\"><div class=\"sk-estimator sk-toggleable\"><input class=\"sk-toggleable__control sk-hidden--visually\" id=\"sk-estimator-id-26\" type=\"checkbox\" ><label for=\"sk-estimator-id-26\" class=\"sk-toggleable__label sk-toggleable__label-arrow\">FunctionTransformer</label><div class=\"sk-toggleable__content\"><pre>FunctionTransformer(func=&lt;function add_new_features at 0x000001CD614B74C0&gt;)</pre></div></div></div><div class=\"sk-item\"><div class=\"sk-estimator sk-toggleable\"><input class=\"sk-toggleable__control sk-hidden--visually\" id=\"sk-estimator-id-27\" type=\"checkbox\" ><label for=\"sk-estimator-id-27\" class=\"sk-toggleable__label sk-toggleable__label-arrow\">FunctionTransformer</label><div class=\"sk-toggleable__content\"><pre>FunctionTransformer(func=&lt;function _merge_external_data at 0x000001CD6174B740&gt;)</pre></div></div></div><div class=\"sk-item\"><div class=\"sk-estimator sk-toggleable\"><input class=\"sk-toggleable__control sk-hidden--visually\" id=\"sk-estimator-id-28\" type=\"checkbox\" ><label for=\"sk-estimator-id-28\" class=\"sk-toggleable__label sk-toggleable__label-arrow\">FunctionTransformer</label><div class=\"sk-toggleable__content\"><pre>FunctionTransformer(func=&lt;function _encode_dates at 0x000001CD614B7600&gt;)</pre></div></div></div><div class=\"sk-item sk-dashed-wrapped\"><div class=\"sk-label-container\"><div class=\"sk-label sk-toggleable\"><input class=\"sk-toggleable__control sk-hidden--visually\" id=\"sk-estimator-id-29\" type=\"checkbox\" ><label for=\"sk-estimator-id-29\" class=\"sk-toggleable__label sk-toggleable__label-arrow\">columntransformer: ColumnTransformer</label><div class=\"sk-toggleable__content\"><pre>ColumnTransformer(transformers=[(&#x27;date&#x27;, OneHotEncoder(handle_unknown=&#x27;ignore&#x27;),\n",
       "                                 [&#x27;year&#x27;, &#x27;month&#x27;, &#x27;day&#x27;, &#x27;weekday&#x27;, &#x27;hour&#x27;]),\n",
       "                                (&#x27;cat&#x27;, OneHotEncoder(handle_unknown=&#x27;ignore&#x27;),\n",
       "                                 [&#x27;counter_name&#x27;, &#x27;site_name&#x27;, &#x27;etat_sol&#x27;, &#x27;ww&#x27;,\n",
       "                                  &#x27;is_weekend&#x27;, &#x27;is_holiday&#x27;, &#x27;is_curfew&#x27;]),\n",
       "                                (&#x27;num&#x27;, &#x27;passthrough&#x27;,\n",
       "                                 [&#x27;u&#x27;, &#x27;day_sin&#x27;, &#x27;day_cos&#x27;, &#x27;month_sin&#x27;,\n",
       "                                  &#x27;month_cos&#x27;, &#x27;hour_sin&#x27;, &#x27;hour_cos&#x27;])])</pre></div></div></div><div class=\"sk-parallel\"><div class=\"sk-parallel-item\"><div class=\"sk-item\"><div class=\"sk-label-container\"><div class=\"sk-label sk-toggleable\"><input class=\"sk-toggleable__control sk-hidden--visually\" id=\"sk-estimator-id-30\" type=\"checkbox\" ><label for=\"sk-estimator-id-30\" class=\"sk-toggleable__label sk-toggleable__label-arrow\">date</label><div class=\"sk-toggleable__content\"><pre>[&#x27;year&#x27;, &#x27;month&#x27;, &#x27;day&#x27;, &#x27;weekday&#x27;, &#x27;hour&#x27;]</pre></div></div></div><div class=\"sk-serial\"><div class=\"sk-item\"><div class=\"sk-estimator sk-toggleable\"><input class=\"sk-toggleable__control sk-hidden--visually\" id=\"sk-estimator-id-31\" type=\"checkbox\" ><label for=\"sk-estimator-id-31\" class=\"sk-toggleable__label sk-toggleable__label-arrow\">OneHotEncoder</label><div class=\"sk-toggleable__content\"><pre>OneHotEncoder(handle_unknown=&#x27;ignore&#x27;)</pre></div></div></div></div></div></div><div class=\"sk-parallel-item\"><div class=\"sk-item\"><div class=\"sk-label-container\"><div class=\"sk-label sk-toggleable\"><input class=\"sk-toggleable__control sk-hidden--visually\" id=\"sk-estimator-id-32\" type=\"checkbox\" ><label for=\"sk-estimator-id-32\" class=\"sk-toggleable__label sk-toggleable__label-arrow\">cat</label><div class=\"sk-toggleable__content\"><pre>[&#x27;counter_name&#x27;, &#x27;site_name&#x27;, &#x27;etat_sol&#x27;, &#x27;ww&#x27;, &#x27;is_weekend&#x27;, &#x27;is_holiday&#x27;, &#x27;is_curfew&#x27;]</pre></div></div></div><div class=\"sk-serial\"><div class=\"sk-item\"><div class=\"sk-estimator sk-toggleable\"><input class=\"sk-toggleable__control sk-hidden--visually\" id=\"sk-estimator-id-33\" type=\"checkbox\" ><label for=\"sk-estimator-id-33\" class=\"sk-toggleable__label sk-toggleable__label-arrow\">OneHotEncoder</label><div class=\"sk-toggleable__content\"><pre>OneHotEncoder(handle_unknown=&#x27;ignore&#x27;)</pre></div></div></div></div></div></div><div class=\"sk-parallel-item\"><div class=\"sk-item\"><div class=\"sk-label-container\"><div class=\"sk-label sk-toggleable\"><input class=\"sk-toggleable__control sk-hidden--visually\" id=\"sk-estimator-id-34\" type=\"checkbox\" ><label for=\"sk-estimator-id-34\" class=\"sk-toggleable__label sk-toggleable__label-arrow\">num</label><div class=\"sk-toggleable__content\"><pre>[&#x27;u&#x27;, &#x27;day_sin&#x27;, &#x27;day_cos&#x27;, &#x27;month_sin&#x27;, &#x27;month_cos&#x27;, &#x27;hour_sin&#x27;, &#x27;hour_cos&#x27;]</pre></div></div></div><div class=\"sk-serial\"><div class=\"sk-item\"><div class=\"sk-estimator sk-toggleable\"><input class=\"sk-toggleable__control sk-hidden--visually\" id=\"sk-estimator-id-35\" type=\"checkbox\" ><label for=\"sk-estimator-id-35\" class=\"sk-toggleable__label sk-toggleable__label-arrow\">passthrough</label><div class=\"sk-toggleable__content\"><pre>passthrough</pre></div></div></div></div></div></div></div></div><div class=\"sk-item\"><div class=\"sk-estimator sk-toggleable\"><input class=\"sk-toggleable__control sk-hidden--visually\" id=\"sk-estimator-id-36\" type=\"checkbox\" ><label for=\"sk-estimator-id-36\" class=\"sk-toggleable__label sk-toggleable__label-arrow\">XGBRegressor</label><div class=\"sk-toggleable__content\"><pre>XGBRegressor(base_score=None, booster=None, callbacks=None,\n",
       "             colsample_bylevel=None, colsample_bynode=None,\n",
       "             colsample_bytree=None, device=None, early_stopping_rounds=None,\n",
       "             enable_categorical=False, eval_metric=None, feature_types=None,\n",
       "             gamma=None, grow_policy=None, importance_type=None,\n",
       "             interaction_constraints=None, learning_rate=0.2, max_bin=None,\n",
       "             max_cat_threshold=None, max_cat_to_onehot=None,\n",
       "             max_delta_step=None, max_depth=8, max_leaves=None,\n",
       "             min_child_weight=None, missing=nan, monotone_constraints=None,\n",
       "             multi_strategy=None, n_estimators=110, n_jobs=None,\n",
       "             num_parallel_tree=None, random_state=None, ...)</pre></div></div></div></div></div></div></div>"
      ],
      "text/plain": [
       "Pipeline(steps=[('functiontransformer-1',\n",
       "                 FunctionTransformer(func=<function add_new_features at 0x000001CD614B74C0>)),\n",
       "                ('functiontransformer-2',\n",
       "                 FunctionTransformer(func=<function _merge_external_data at 0x000001CD6174B740>)),\n",
       "                ('functiontransformer-3',\n",
       "                 FunctionTransformer(func=<function _encode_dates at 0x000001CD614B7600>)),\n",
       "                ('columntransformer',\n",
       "                 ColumnTransform...\n",
       "                              feature_types=None, gamma=None, grow_policy=None,\n",
       "                              importance_type=None,\n",
       "                              interaction_constraints=None, learning_rate=0.2,\n",
       "                              max_bin=None, max_cat_threshold=None,\n",
       "                              max_cat_to_onehot=None, max_delta_step=None,\n",
       "                              max_depth=8, max_leaves=None,\n",
       "                              min_child_weight=None, missing=nan,\n",
       "                              monotone_constraints=None, multi_strategy=None,\n",
       "                              n_estimators=110, n_jobs=None,\n",
       "                              num_parallel_tree=None, random_state=None, ...))])"
      ]
     },
     "execution_count": 44,
     "metadata": {},
     "output_type": "execute_result"
    }
   ],
   "source": [
    "pipe.fit(X, y)"
   ]
  },
  {
   "cell_type": "code",
   "execution_count": 45,
   "id": "b55254f2",
   "metadata": {},
   "outputs": [],
   "source": [
    "X_final_test = pd.read_parquet(\"final_test.parquet\")"
   ]
  },
  {
   "cell_type": "code",
   "execution_count": 46,
   "id": "8963fc76",
   "metadata": {},
   "outputs": [],
   "source": [
    "y_pred = pipe.predict(X_final_test)"
   ]
  },
  {
   "cell_type": "code",
   "execution_count": 47,
   "id": "793b10c8",
   "metadata": {},
   "outputs": [
    {
     "data": {
      "text/plain": [
       "array([0.18651041, 1.4709659 , 2.1815455 , ..., 4.8654575 , 4.4252653 ,\n",
       "       3.8077776 ], dtype=float32)"
      ]
     },
     "execution_count": 47,
     "metadata": {},
     "output_type": "execute_result"
    }
   ],
   "source": [
    "for i in range(len(y_pred)):\n",
    "    if y_pred[i] < 0:\n",
    "        y_pred[i] = 0"
   ]
  },
  {
   "cell_type": "code",
   "execution_count": null,
   "id": "b93a8727",
   "metadata": {},
   "outputs": [],
   "source": [
    "y_pred"
   ]
  },
  {
   "cell_type": "code",
   "execution_count": 49,
   "id": "4cb7c551",
   "metadata": {},
   "outputs": [],
   "source": [
    "results = pd.DataFrame(\n",
    "    dict(\n",
    "        Id=np.arange(y_pred.shape[0]),\n",
    "        log_bike_count=y_pred,\n",
    "    )\n",
    ")\n",
    "results.to_csv(\"submission_XGB_curfew.csv\", index=False)"
   ]
  },
  {
   "cell_type": "code",
   "execution_count": 570,
   "id": "ae1cc2c7",
   "metadata": {},
   "outputs": [],
   "source": [
    "# Changer en fonction des meilleures submissions\n",
    "\n",
    "csv1 = pd.read_csv(\"submission_XGB_full_merged.csv\")\n",
    "csv2 = pd.read_csv(\"submission_XGB_summer_holidays.csv\")\n",
    "\n",
    "y1 = csv1[\"log_bike_count\"]\n",
    "y2 = csv2[\"log_bike_count\"]"
   ]
  },
  {
   "cell_type": "code",
   "execution_count": 571,
   "id": "09dae9df",
   "metadata": {},
   "outputs": [],
   "source": [
    "y_pred = 0.5*y1 + 0.5*y2"
   ]
  },
  {
   "cell_type": "code",
   "execution_count": 540,
   "id": "3fe68a73",
   "metadata": {},
   "outputs": [
    {
     "data": {
      "text/plain": [
       "0        0.384366\n",
       "1        1.484280\n",
       "2        2.146217\n",
       "3        0.878931\n",
       "4        0.781125\n",
       "           ...   \n",
       "51435    4.553564\n",
       "51436    4.764805\n",
       "51437    5.114223\n",
       "51438    4.612113\n",
       "51439    3.827440\n",
       "Name: log_bike_count, Length: 51440, dtype: float64"
      ]
     },
     "execution_count": 540,
     "metadata": {},
     "output_type": "execute_result"
    }
   ],
   "source": [
    "y_pred"
   ]
  },
  {
   "cell_type": "code",
   "execution_count": null,
   "id": "a8aad108",
   "metadata": {},
   "outputs": [],
   "source": []
  }
 ],
 "metadata": {
  "kernelspec": {
   "display_name": "Python 3 (ipykernel)",
   "language": "python",
   "name": "python3"
  },
  "language_info": {
   "codemirror_mode": {
    "name": "ipython",
    "version": 3
   },
   "file_extension": ".py",
   "mimetype": "text/x-python",
   "name": "python",
   "nbconvert_exporter": "python",
   "pygments_lexer": "ipython3",
   "version": "3.11.5"
  }
 },
 "nbformat": 4,
 "nbformat_minor": 5
}
